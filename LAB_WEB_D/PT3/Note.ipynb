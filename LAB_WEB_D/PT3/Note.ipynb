{
 "cells": [
  {
   "cell_type": "markdown",
   "metadata": {},
   "source": [
    "# <center><font color = '#bb33ff'> Bootstrap </font>\n",
    "\n",
    "<center>\n",
    "<a href='https://getbootstrap.com'>\n",
    "\n",
    "<img src='Icon-Bootstrap.png' width='250' heigth='250'>\n",
    "\n",
    "</a>\n",
    "</center>"
   ]
  },
  {
   "cell_type": "markdown",
   "metadata": {},
   "source": [
    "## Pengenalan <font color = '#bb33ff'> Bootstrap </font> \n",
    "\n",
    "<font size = '4'><font color = '#bb33ff'> Bootstrap </font>adalah framework front-end yang digunakan untuk mendesain website yang responsif dan mobilefirst. Framework ini menyediakan berbagai komponen <font color = '#3333ff'> CSS </font> dan <font color = '#dfdf20'> JavaScript </font> yang dapat digunakan untuk membangun antarmuka web secara cepat dan konsisten.</font>."
   ]
  },
  {
   "cell_type": "markdown",
   "metadata": {},
   "source": [
    "## Sejarah <font color = '#bb33ff'> Bootstrap </font> \n",
    "\n",
    "<font size = '4'><font color = '#bb33ff'> Bootstrap </font>adalah  kerangka kerja <font color = '#3333ff'> CSS </font> (CSS framework) yang dikembangkan oleh tim Twitter. Ini adalah alat yang kuat dan sangat populer dalam pengembangan web karena menyediakan komponen *UI*, gaya bawaan, dan tata letak responsif yang memungkinkan pengembang untuk membuat tampilan situs web dengan cepat dan mudah."
   ]
  },
  {
   "cell_type": "markdown",
   "metadata": {},
   "source": [
    "## Keunggulan <font color = '#bb33ff'> Bootstrap </font> \n",
    "\n",
    "### 1. Responsif\n",
    "<font size = '4'><font color = '#bb33ff'> Bootstrap </font> memungkinkan Anda membuat tampilan situs web yang responsif, yang akan terlihat baik di berbagai ukuran layar, mulai dari perangkat desktop hingga perangkat mobile.</font>\n",
    "\n",
    "### 2. Komponen UI\n",
    "<font size = '4'><font color = '#bb33ff'> Bootstrap </font>menyediakan sejumlah besar komponen UI siap pakai seperti tombol, formulir, card, jumbotron, dan banyak lagi.</font>\n",
    "\n",
    "### 3. Tata Letak Responsif\n",
    "<font size = '4'>Anda dapat mengatur tata letak dengan mudah menggunakan grid responsif<font color = '#bb33ff'> Bootstrap </font>yang terdiri dari kolom dan baris</font>\n",
    "\n",
    "### 4. Style Bawaan\n",
    "<font size = '4'><font color = '#bb33ff'> Bootstrap </font>menghadirkan style bawaan yang terlihat modern dan profesional, menghemat waktu dalam merancang tampilan dari awal.</font>"
   ]
  },
  {
   "cell_type": "markdown",
   "metadata": {},
   "source": [
    "## Menghubungkan <font color = '#bb33ff'> Bootstrap </font> \n",
    "\n",
    "<font size = '4'>Kita dapat menghubungkan <font color = '#bb33ff'> Bootstrap </font>ke halaman web dengan dua cara :\n",
    "\n",
    "### Menggunakan Versi Unduhan\n",
    "1. Unduh versi terbaru <font color = '#bb33ff'> Bootstrap </font>dari <a href='https://getbootstrap.com'> https://getbootstrap.com </a>\n",
    "2. Ekstrak file ZIP yang diunduh.\n",
    "3. Salin file <font color = '#3333ff'> CSS </font> dan <font color = '#dfdf20'> JavaScript </font> dari direktori `dist` ke direktori proyek.\n",
    "4. Hubungkan file <font color = '#3333ff'> CSS </font> dan <font color = '#dfdf20'> JavaScript </font> dalam elemen `<head>`</font>\n",
    "\n",
    "### Menggunakan <font color = '#bb33ff'> Bootstrap </font> yang Di-host\n",
    "<font size = '4'>Kita dapat menghubungkan <font color = '#bb33ff'> Bootstrap </font> menggunakan **CDN** (*Content Delivery Network*), yang memungkinkan kita tidak perlu mengunduh dan menyimpan file <font color = '#bb33ff'> Bootstrap </font> di proyek kita</font>\n",
    "```html\n",
    "<head>\n",
    "    ...\n",
    "    <link href=\"https://cdn.jsdelivr.net/npm/bootstrap@5.3.3/dist/css/bootstrap.min.css\" rel=\"stylesheet\">\n",
    "    <script src=\"https://cdn.jsdelivr.net/npm/bootstrap@5.3.3/dist/js/bootstrap.bundle.min.js\"></script>\n",
    "    ...\n",
    "</head>\n",
    "```"
   ]
  },
  {
   "cell_type": "markdown",
   "metadata": {},
   "source": [
    "## Komponen UI <font color = '#bb33ff'> Bootstrap </font> \n",
    "<font size = '4'>Berikut adalah file HTML yang berisi beberapa komponen UI yang sering digunakan dalam <font color = '#bb33ff'> Bootstrap </font>: (<a href='index.html'> index.html </a>)</font>"
   ]
  },
  {
   "cell_type": "markdown",
   "metadata": {},
   "source": [
    "## Layouting <font color = '#bb33ff'> Bootstrap </font> \n",
    "\n",
    "### Container\n",
    "<font size = '4'>**Container** adalah tata letak paling dasar di <font color = '#bb33ff'> Bootstrap </font> dan diperlukan saat menggunakan sistem grid. **Container** pada dasarnya digunakan untuk membungkus konten dengan beberapa *padding*. Mereka juga digunakan untuk menyelaraskan konten secara horizontal di tengah halaman jika tata letak lebar fixed.\n",
    "\n",
    "<font color = '#bb33ff'> Bootstrap </font> menyediakan tiga jenis Container yang berbeda:\n",
    "\n",
    "1. `.container` : yang memiliki lebar maksimum di setiap breakpoint responsive\n",
    "2. `.container-fluid` : yaitu `width: 100%` di semua breakpoint\n",
    "3. `.container-{breakpoint}` : yaitu `width: 100%` hingga breakpoint yang ditentukan</font>\n",
    "\n",
    "### Grid System\n",
    "<font size = '4'>Sistem grid <font color = '#bb33ff'> Bootstrap </font> menyediakan cara yang mudah dan kuat untuk membuat tata\n",
    "letak responsif dari semua bentuk dan ukuran. konsep ini dibangun dengan flexbox dengan\n",
    "pendekatan mobile-first. Juga, ini sepenuhnya responsif dan menggunakan sistem dua belas\n",
    "kolom (12 kolom tersedia per baris) dan enam tingkatan responsif default.\n",
    "\n",
    "Kita dapat menggunakan kelas grid <font color = '#bb33ff'> Bootstrap </font> yang telah ditentukan untuk membuat\n",
    "layout dengan cepat untuk berbagai jenis perangkat seperti ponsel, tablet, laptop, desktop, dan\n",
    "sebagainya. Misalnya, Anda dapat menggunakan kelas `.col-*` untuk membuat kolom kisi\n",
    "untuk perangkat ekstra kecil seperti ponsel dalam mode potrait, dan kelas `.col-sm-*` untuk\n",
    "ponsel dalam mode landscape. </font>\n",
    "\n",
    "<center>\n",
    "\n",
    "![Grid System](Grid-System-Media.png)\n",
    "\n",
    "</center>"
   ]
  }
 ],
 "metadata": {
  "language_info": {
   "name": "python"
  }
 },
 "nbformat": 4,
 "nbformat_minor": 2
}
