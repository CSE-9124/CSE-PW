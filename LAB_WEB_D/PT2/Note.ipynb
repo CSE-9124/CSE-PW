{
 "cells": [
  {
   "cell_type": "markdown",
   "metadata": {},
   "source": [
    "# <center><font color = '#3333ff'> CSS </font> as Skin"
   ]
  },
  {
   "cell_type": "markdown",
   "metadata": {},
   "source": [
    "## Pengenalan <font color = '#3333ff'> CSS </font> \n",
    "\n",
    "<font size = '4'><font color = '#3333ff'> CSS </font> adalah singkatan dari *Cascading Style Sheets* yang bisanya untuk mengatur tampilan elemen yang tertulis dalam bahasa markup, seperti <font color = 'orange'> HTML</font>."
   ]
  },
  {
   "cell_type": "markdown",
   "metadata": {},
   "source": [
    "## Syntak <font color = '#3333ff'> CSS </font> \n",
    "<center>\n",
    "\n",
    "![Syntak CSS](images/img_selector.jpg)\n",
    "\n",
    "</center>"
   ]
  },
  {
   "cell_type": "markdown",
   "metadata": {},
   "source": [
    "## Penggunaan <font color = '#3333ff'> CSS </font> \n",
    "<font size = '4'>Ada tiga cara dalam menggunakan <font color = '#3333ff'>CSS</font> pada file <font color = 'orange'>HTML</font>:\n",
    "\n",
    "| No | Nama | <center>Cara Menggunakan</center> |\n",
    "|----|----------|---------|\n",
    "| 1. | Inline | Untuk menggunakan inline CSS, kita dapat menambahkan aturan CSS langsung ke elemen HTML menggunakan atribut style. |\n",
    "| 2. | Internal | Untuk menggunakan internal CSS, kita dapat menulis aturan CSS di dalam tag `<style>` di bagian `<head>` dokumen HTML. |\n",
    "| 3. | External | Untuk menggunakan External CSS ,kita dapat Menulis aturan CSS dalam file terpisah dengan ekstensi *.css* dan menghubungkannya ke dokumen HTML menggunakan tag `<link>` di bagian `<head>`. |"
   ]
  },
  {
   "cell_type": "markdown",
   "metadata": {},
   "source": [
    "## Selector <font color = '#3333ff'> CSS </font> \n",
    "| Selector | Contoh | Deskripsi |\n",
    "|----------|--------|-----------|\n",
    "| `#id` | #para1 | Memilih elemen dengan id=\"para1\" |\n",
    "| `.class` | .center | Memilih semua elemen dengan class=\"center\" |\n",
    "| `element.class` | p.center | Hanya memilih elemen \\<p> dengan class=\"center\" |\n",
    "| `*` | * | Memilih semua elemen |\n",
    "| `element` | p | Memilih semua elemen \\<p> |\n",
    "| `element, element,..` | div, p | Memilih semua elemen \\<div> dan element \\<p> |"
   ]
  },
  {
   "cell_type": "markdown",
   "metadata": {},
   "source": [
    "## Konsep Dalam <font color = '#3333ff'> CSS </font> \n",
    "\n",
    "### 1. The Cascade (*Rule Order*)\n",
    "<font size = '4'>Konsep **The Cascade** menunjukkan bahwa aturan styling pada CSS diterapkan dari atas ke bawah. Artinya, jika ada beberapa aturan dengan selector yang sama, aturan yang terakhir ditulis akan diutamakan.</font>\n",
    "\n",
    "### 2. Specificity\n",
    "<font size = '4'>**Specificity** menentukan bahwa selector yang lebih spesifik akan mengesampingkan selector yang kurang spesifik.</font>\n",
    "\n",
    "### 3. Inheritance\n",
    "<font size = '4'>**Inheritance** dalam CSS berarti bahwa beberapa properti akan diwariskan dari elemen induk ke elemen anak. Misalnya jika *font-family* diatur pada elemen body, semua elemen di dalamnya akan mewariskan gaya tersebut.</font>\n",
    "\n",
    "### 4. Group Selector\n",
    "<font size = '4'>**Group Selector** memungkinkan kita mengaplikasikan aturan yang sama ke beberapa elemen dengan menggabungkan selector menggunakan koma.</font>"
   ]
  },
  {
   "cell_type": "markdown",
   "metadata": {},
   "source": [
    "## Position <font color = '#3333ff'> CSS </font> \n",
    "<font size = '4'>Properti `position` mengatur cara elemen ditempatkan dalam halaman. Nilai-nilai yang umum digunakan:</font>\n",
    "\n",
    "| Nilai | <center>Deskripsi</center> |\n",
    "|----------|-----------|\n",
    "| <font color = \"#00ffff\">*static*</font> | Jenis ini adalah posisi bawaan untuk semua elemen web. Jika <br> Kita tidak menentukan jenis posisi apa pun, elemen tersebut <br> akan memiliki static position secara default. |\n",
    "| <font color = \"#00ffff\">*relative*</font> | Elemen ditempatkan sesuai dengan posisi normalnya, tetapi dapat <br> digeser relatif terhadap posisi aslinya menggunakan properti `top`, <br> `right`, `bottom`, atau `left`. Sehingga memungkinkan Kita untuk <br> memindahkan elemen tanpa mengubah posisi elemen lainnya. |\n",
    "| <font color = \"#00ffff\">*absolute*</font> | Menggunakan absolute position berarti kita mengambil elemen <br> keluar dari normal flow dan apabila tidak ada elemen parent yang <br> memiliki `position: relative` maka elemen yang memiliki <br> `position: absolute` letak dan posisinya akan bergantung pada <br> elemen dokumen atau tag html. |\n",
    "| <font color = \"#00ffff\">*fixed*</font> | Sebuah elemen dengan `position: fixed` akan diposisikan relatif <br> terhadap viewport, yang berarti selalu tetap berada di posisi yang <br> sama meskipun halaman di-scroll. |\n",
    "| <font color = \"#00ffff\">*sticky*</font> | Jenis ini adalah kombinasi dari posisi `relative` dan `fixed`, <br> tergantung pada posisi scroll. Elemen akan diposisikan relatif <br> sampai mencapai posisi offset tertentu terpenuhi di viewport <br> - kemudian \"menempel\" di tempatnya |\n",
    "\n",
    "### `top`, `right`, `bottom`, `left`\n",
    "<font size = '4'>Digunakan bersamaan dengan position (kecuali static) untuk mengatur posisi tepat elemen.</font>"
   ]
  },
  {
   "cell_type": "markdown",
   "metadata": {},
   "source": [
    "## Display <font color = '#3333ff'> CSS </font> \n",
    "<font size = '4'>Properti `display` mengendalikan tampilan elemen. Beberapa nilai yang umum digunakan adalah:</font>\n",
    "\n",
    "| Nilai | <center>Deskripsi</center> |\n",
    "|----------|-----------|\n",
    "| <font color = \"#00ffff\">*block*</font> (default) | Elemen mengambil satu baris penuh dan memulai baris baru setelahnya. Contoh: \\<div>, \\<p>. |\n",
    "| <font color = \"#00ffff\">*inline*</font> (default) |Elemen hanya menempati ruang yang diperlukan dan tidak memulai baris baru. Contoh: \\<span>, \\<a>.. |\n",
    "| <font color = \"#00ffff\">*inline-block*</font> | Menggabungkan sifat elemen block dan inline; Menampilkan elemen sebagai kontainer blok tingkat <br> sebaris. Elemen berada di baris yang sama namun dapat memiliki dimensi lebar dan tinggi. |\n",
    "| <font color = \"#00ffff\">*flex*</font> | Membuat elemen mengikuti model tata letak flexbox, memungkinkan penataan fleksibel dari elemen <br> dalam baris atau kolom. |\n",
    "| <font color = \"#00ffff\">*grid*</font> | Membuat elemen mengikuti model tata letak grid, memungkinkan penataan elemen dalam baris dan <br> kolom dengan struktur grid.|"
   ]
  },
  {
   "cell_type": "markdown",
   "metadata": {},
   "source": [
    "## Float & Clear <font color = '#3333ff'> CSS </font> \n",
    "<hr>\n",
    "\n",
    "### Float\n",
    "<font size = '4'>Properti `float` digunakan untuk mengatur elemen mengapung ke sisi tertentu dari elemen lain, seperti mengapungkannya ke kiri atau kanan.Float sering digunakan untuk mengatur tata letak kolom dalam desain web.\n",
    "\n",
    "Properti `float` dapat memiliki salah satu dari nilai-nilai berikut:\n",
    "\n",
    "- `left`: Mengapungkan elemen ke sisi kiri kontainer.\n",
    "- `right`: Mengapungkan elemen ke sisi kanan kontainer.\n",
    "- `none`: Elemen tidak mengapung (default).\n",
    "- `inherit`: Elemen mewarisi nilai float dari elemen induknya.\n",
    "\n",
    "Dalam penggunaannya yang paling sederhana, properti `float` dapat digunakan untuk membungkus teks di sekitar gambar.</font>\n",
    "\n",
    "### Clear\n",
    "<font size = '4'>Properti `clear` menentukan apa harus terjadi dengan elemen yang berada di sebelah elemen `float`\n",
    "\n",
    "Properti `clear` dapat memiliki salah satu dari nilai-nilai berikut:\n",
    "\n",
    "- `none`: Elemen tidak akan dipengaruhi oleh elemen float (default).\n",
    "- `left`: Elemen tidak akan mengapung di sebelah elemen float di sisi kiri.\n",
    "- `right`: Elemen tidak akan mengapung di sebelah elemen float di sisi kanan.\n",
    "- `both`: Elemen tidak akan mengapung di sebelah elemen float di kedua sisi.\n",
    "- `inherit`: Elemen mewarisi nilai clear dari elemen induknya.\n",
    "\n",
    "Saat menghapus float, Anda harus mencocokkan `clear` dengan `float`: Jika elemen float bernilai kiri, maka Anda harus memberikan elemen clear bernilai kiri. Elemen float Anda akan terus mengapung, tetapi elemen yang di clear akan muncul di bawahnya di web halaman.</font>\n"
   ]
  },
  {
   "cell_type": "markdown",
   "metadata": {},
   "source": [
    "## Box Model <font color = '#3333ff'> CSS </font> \n",
    "<font size = '4'>**Box Model** di CSS menggambarkan struktur setiap elemen HTML sebagai kotak yang terdiri dari konten, padding, border, dan margin.</font>\n",
    "\n",
    "<center>\n",
    "\n",
    "![Box Model CSS](images/CSS_Box-Model.png)\n",
    "\n",
    "</center>\n",
    "\n",
    "<font size = '4'>Penjelasan tentang bagian-bagian Box Model:\n",
    "\n",
    "- **Content** : Area di mana teks dan gambar ditampilkan.\n",
    "- **Padding** : Ruang di sekitar konten, memberikan jarak antara konten dan border.\n",
    "- **Border** : Garis yang mengelilingi padding (jika ada) dan konten.\n",
    "- **Margin** : Ruang di luar border, memisahkan elemen dari elemen lainnya.</font>"
   ]
  },
  {
   "cell_type": "markdown",
   "metadata": {},
   "source": [
    "## Responsif dengan Media Query <font color = '#3333ff'> CSS </font> \n",
    "<font size = '4'>**Responsif** (atau responsivitas) dalam desain web merujuk pada kemampuan sebuah situs web atau aplikasi web untuk menyesuaikan tampilannya dengan baik pada berbagai perangkat dan ukuran layar yang berbeda. **Media Query** adalah salah satu teknik dalam CSS yang digunakan untuk mencapai responsivitas ini.\n",
    "\n",
    "**Media Query** adalah aturan CSS yang memungkinkan kita mengubah tampilan dan tata letak elemen HTML berdasarkan karakteristik perangkat yang sedang digunakan, seperti lebar layar, orientasi (potrait atau landscape),dan lainnya.</font>\n",
    "\n",
    "### Contoh\n",
    "```CSS\n",
    "/* Gaya dasar untuk semua layar */\n",
    "p {\n",
    "    font-size: 16px;\n",
    "}\n",
    "\n",
    "/* Mengubah ukuran font pada layar dengan lebar kurang dari 600px */\n",
    "@media (max-width: 600px) {\n",
    "    p {\n",
    "        font-size: 14px;\n",
    "    }\n",
    "}\n",
    "\n",
    "/* Mengubah ukuran font pada layar dengan lebar lebih dari 1200px */\n",
    "@media (max-width: 1200px) {\n",
    "    p {\n",
    "        font-size: 20px;\n",
    "    }\n",
    "}\n",
    "```"
   ]
  },
  {
   "cell_type": "markdown",
   "metadata": {},
   "source": [
    "## Pseudo-class & Pseudo-element <font color = '#3333ff'> CSS </font>\n",
    "<hr>\n",
    "\n",
    "### Pseudo-class\n",
    "<font size = '4'>**Pseudo-class** adalah istilah yang digunakan untuk memilih elemen HTML berdasarkan keadaan atau karakteristik tertentu yang tidak dapat diwakili oleh selektor kelas atau ID biasa. **Pseudo-class** diidentifikasi dengan tanda titik dua (:) diikuti oleh nama pseudo-class.</font>\n",
    "\n",
    "| Pseudo-class | <center>Deskripsi</center> |\n",
    "|----------|-----------|\n",
    "| <font color = \"#f0a8a8\">:hover</font> | Memilih elemen saat mouse mengarah ke atas elemen tersebut. |\n",
    "| <font color = \"#f0a8a8\">:active</font> | Memilih elemen saat elemen tersebut sedang ditekan (klik). |\n",
    "| <font color = \"#f0a8a8\">:focus</font> | Memilih elemen saat elemen tersebut memiliki fokus (biasanya <br> digunakan untuk elemen formulir). |\n",
    "| <font color = \"#f0a8a8\">:first-child</font> | Memilih elemen yang menjadi anak pertama dari elemen lain <br> dalam hierarki. |\n",
    "\n",
    "### Pseudo-element\n",
    "<font size = '4'>**Pseudo-element** memungkinkan kita membuat dan memodifikasi bagian khusus dari elemen HTML, seperti bagian awal, akhir, atau elemen yang tertentu dalam elemen tersebut. **Pseudo-element** diidentifikasi dengan dua tanda titik dua (::) diikuti oleh nama pseudo-element.</font>\n",
    "\n",
    "| Pseudo-element | <center>Deskripsi</center> |\n",
    "|----------|-----------|\n",
    "| <font color = \"#f0a8a8\">::before</font> | Membuat elemen sebelum konten dalam elemen yang dipilih. |\n",
    "| <font color = \"#f0a8a8\">::after</font> | Membuat elemen setelah konten dalam elemen yang dipilih. |\n",
    "| <font color = \"#f0a8a8\">::first-line</font> | Memilih baris pertama dalam sebuah elemen teks. |\n",
    "| <font color = \"#f0a8a8\">::first-letter</font> | Memilih huruf pertama dalam sebuah elemen teks. |"
   ]
  },
  {
   "cell_type": "markdown",
   "metadata": {},
   "source": [
    "## Flexbox <font color = '#3333ff'> CSS </font> \n",
    "<font sizem = '4'>**Flexbox** (Flexible Box Layout) memudahkan pembuatan tata letak responsif dan fleksibel tanpa bergantung pada float atau positioning. Untuk menggunakan **Flexbox**, pertama-tama buat elemen container dengan `display: flex`, lalu atur elemen anak di dalamnya. </font>"
   ]
  },
  {
   "cell_type": "markdown",
   "metadata": {},
   "source": [
    "## Transform <font color = '#3333ff'> CSS </font> \n",
    "<font size = '4'>Properti `transform` Digunakan untuk melakukan transformasi seperti rotasi, pergeseran, dan perubahan skala pada elemen.</font>"
   ]
  },
  {
   "cell_type": "markdown",
   "metadata": {},
   "source": [
    "## Z-index <font color = '#3333ff'> CSS </font> \n",
    "<font size = '4'>Properti `z-index` digunakan untuk mengatur urutan tumpukan (stacking order) elemen-elemen yang tumpang tindih di halaman untuk menentukan elemen mana yang\n",
    "akan berada di atas atau di bawah elemen lainnya ketika elemen-elemen tersebut saling bertumpuk. `z-index` hanya berfungsi pada elemen dengan properti position yang memiliki\n",
    "nilai selain static (yaitu *relative*, *absolute*, *fixed*, atau *sticky*).</font>"
   ]
  }
 ],
 "metadata": {
  "language_info": {
   "name": "python"
  }
 },
 "nbformat": 4,
 "nbformat_minor": 2
}
