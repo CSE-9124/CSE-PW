{
 "cells": [
  {
   "cell_type": "markdown",
   "metadata": {},
   "source": [
    "# <center><font color = '#c7a33e'> JavaScript </font> as Brain</font>\n"
   ]
  },
  {
   "cell_type": "markdown",
   "metadata": {},
   "source": [
    "## Pengantar <font color = '#c7a33e'> JavaScript </font> \n",
    "<font size = '4'><font color = '#c7a33e'>JavaScript</font> adalah bahasa pemrograman yang digunakan untuk membuat halaman web lebih interaktif dan dinamis. Bersama dengan <font  color = 'orange'> HTML </font> dan <font color = '#3333ff'> CSS</font>, JavaScript merupakan salah\n",
    "satu dari teknologi utama yang membentuk fondasi pengembangan web.</font>"
   ]
  },
  {
   "cell_type": "markdown",
   "metadata": {},
   "source": [
    "## Sejarah <font color = '#c7a33e'> JavaScript </font> \n",
    "<font size = '4'><font color = '#c7a33e'>JavaScript</font> pertama kali diperkenalkan\n",
    "oleh Brendan Eich pada tahun 1995. Awalnya, bahasa pemrograman ini diberi nama **Mocha**, lalu berubah menjadi **LiveScript**, dan akhirnya menjadi **JavaScript**.\n",
    "\n",
    "Tujuan utama pembuatan <font color = '#c7a33e'>JavaScript</font> adalah untuk menambahkan interaktivitas pada halaman web yang sebelumnya bersifat statis.\n",
    "</font>"
   ]
  },
  {
   "cell_type": "markdown",
   "metadata": {},
   "source": [
    "## Kelebihan <font color = '#c7a33e'> JavaScript </font> \n",
    "<font size = '4'> Beberapa alasan mengapa <font color = '#c7a33e'>JavaScript</font> digunakan dalam pemrograman web :</font>\n",
    "\n",
    "| Kelebihan | <center>Penjelasan</center> |\n",
    "|-----------|------------|\n",
    "| Interaktivitas | <font color = '#c7a33e'>JavaScript</font> memungkinkan pengembang menambahkan elemen interaktif ke halaman web, seperti *pop-up*, *form validasi*, *slide show*, dan lainnya. |\n",
    "| Manajemen DOM | <font color = '#c7a33e'>JavaScript</font> memungkinkan pengembang untuk memanipulasi dan memperbarui konten dan struktur halaman web secara dinamis, tanpa perlu memuat ulang halaman. |\n",
    "| Ekosistem yang Kuat | <font color = '#c7a33e'>JavaScript</font> memiliki ekosistem yang luas, termasuk banyak pustaka dan framework yang mempercepat pengembangan aplikasi web dan mempermudah pengelolaan kompleksitas. Contohnya seperti **React**, **Angular**, dan **Vue.js** untuk *front-end* dan **Node.js** untuk *back-end*. |\n",
    "| Fleksibilitas | <font color = '#c7a33e'>JavaScript</font> dapat digunakan baik di sisi klien (*client-side*) maupun sisi server (*server-side*) dengan platform seperti **Node.js** |\n",
    "| Komunitas yang Besar | <font color = '#c7a33e'>JavaScript</font> memiliki komunitas pengguna yang sangat besar. Hal ini berarti akan mudah menemukan solusi untuk masalah yang hadapi dan mendapatkan bantuan dari sesama pengembang. |\n",
    "| Mudah Dipelajari | Sintaks <font color = '#c7a33e'>JavaScript</font> relatif mudah dipahami, terutama bagi pemula. Banyak tutorial dan sumber belajar yang tersedia secara gratis di internet. |"
   ]
  },
  {
   "cell_type": "markdown",
   "metadata": {},
   "source": [
    "## Penggunaan <font color = '#c7a33e'> JavaScript </font> \n",
    "<font size = '4'>\n",
    "\n",
    "Pada dasarnya, kita bebas ingin meletakkan kode <font color = '#c7a33e'> JavaScript </font> di bagian mana saja, selama berada di dalam tag `<script>`. Umumnya, tag `<script>` diletakkan pada awal kode HTML di akhir tag `<head>`, atau di akhir tag `<body>`. Posisi peletakan ini akan mempengaruhi bagaimana urutan kode <font color = '#c7a33e'> JavaScript </font> berjalan.\n",
    "\n",
    "Halaman <font  color = 'orange'> HTML </font> di proses oleh web browser dari atas ke bawah secara berurutan. Aturan ini juga berlaku untuk kode <font  color = 'orange'> HTML</font>, <font color = '#3333ff'> CSS</font>, dan <font color = '#c7a33e'> JavaScript</font>, sehingga kode <font color = '#c7a33e'> JavaScript </font> yang ada di dalam tag `<head>`, akan diproses lebih dahulu dari pada isi dokumen <font  color = 'orange'> HTML </font> yang terdapat di dalam tag `<body>`.</font>\n",
    "\n",
    "### Internal <font color = '#c7a33e'> JavaScript </font>\n",
    "<font size = '4'>\n",
    "<font color = '#c7a33e'> \n",
    "\n",
    "JavaScript </font> internal adalah kode <font color = '#c7a33e'> JavaScript </font> yang ditulis langsung dalam file <font  color = 'orange'> HTML </font> \n",
    "menggunakan tag `<script>`. Kode ini biasanya ditempatkan di bagian `<head>` atau dibagian bawah `<body>`.</font>\n",
    "\n",
    "### External <font color = '#c7a33e'> JavaScript </font>\n",
    "<font size = '4'>\n",
    "<font color = '#c7a33e'> \n",
    "\n",
    "JavaScript </font> eksternal adalah kode <font color = '#c7a33e'> JavaScript </font> yang disimpan dalam file terpisah dengan ekstensi .js. File ini kemudian dihubungkan ke file HTML menggunakan tag `<script>` dengan atribut `src`.</font>\n"
   ]
  },
  {
   "cell_type": "markdown",
   "metadata": {},
   "source": [
    "## Menjalankan <font color = '#c7a33e'> JavaScript </font> \n",
    "<font size = '4'><font color = '#c7a33e'>JavaScript</font> awalnya dieancang untuk dijalankan didalam browser, memungkinkan pengembang untuk membuat halaman web interaktif.  Namun, dengan kemajuan teknologi, <font color = '#c7a33e'>JavaScript</font> kini dapat dijalankan di berbagai lingkungan, baik di dalam browser maupun di luar browser. </font>\n",
    "\n",
    "### 1. Menggunakan Document Write dan Console Browser\n",
    "<font size = '4'>Jika menggunakan *document.write* dalam <font color = '#c7a33e'>JavaScript</font>, ini dikenal sebagai penulisan dinamis ke dokumen. Fungsi `document.write()` digunakan untuk menulis teks atau <font color = 'orange'>HTML</font> langsung ke halaman web selama proses pemuatan halaman. \n",
    "\n",
    "Jika menggunakan `console.log()` maka output dapat dilihat dari konsol browser dengan cara membuka inspeksi.</font>\n",
    "\n",
    "```html\n",
    "    <script>\n",
    "        var name = prompt(\"Masukan nama: \");\n",
    "        if (name) {\n",
    "        document.write(\"<p>Hallo, \" + name + \"! Selamat datang di Universitas Hasanuddin</p>\");\n",
    "        } else {\n",
    "        document.write(\"<p>Anda tidak memasukan nama</p>\");\n",
    "        }\n",
    "        //console.log(name)\n",
    "    </script>\n",
    "```\n",
    "\n",
    "### 2. Menggunakan <font color = '#7dd161'>Node.Js</font>\n",
    "\n",
    "- Silahkan <a href = 'https://nodejs.org/en/download/prebuilt-installer'><font color = '#7dd161'>unduh Node.Js</font></a> dan ikut petunjuk instalasi yang ada.\n",
    "- Setelah instalasi, silahkan periksa apakah Node.js sudah terinstal dengan benar dengan membuka terminal atau command prompt dan mengetik perintah :\n",
    "```command prompt\n",
    "    node -v\n",
    "    npm -v\n",
    "```\n",
    "- Jika muncul nomor versi untuk kedua perintah tersebut, instalasi berhasil."
   ]
  },
  {
   "cell_type": "markdown",
   "metadata": {},
   "source": [
    "## Variabel dan Tipe Data <font color = '#c7a33e'> JavaScript </font> \n",
    "<font size = '4'>Ada beberapa jenis variabel dalam <font color = '#c7a33e'>JavaScript</font>, masing-masing dengan karakteristiknya sendiri.</font>\n",
    "\n",
    "|  | <center>var</center> | <center>let</center> | <center>const</center> |\n",
    "|--|----------------------|----------------------|------------------------|\n",
    "| Deklarasi | kata kunci `var` | kata kunci `let` | kata kunci `const` |\n",
    "| Scope | Dapat diakses secara <br> global jika dideklarasikan <br> di luar fungsi, dan dapat diakses <br> dalam lingkup fungsi jika <br> dideklarasikan di dalam fungsi. | Berlaku dalam blok kode <br> di mana variabel tersebut <br> dideklarasikan (**block scope**). | Berlaku dalam blok kode <br> di mana variabel tersebut <br> dideklarasikan (**block scope**). |\n",
    "| Hoisting | Variabel yang dideklarasikan <br> dengan `var` dihoist <br> (diangkat ke atas), sehingga <br> bisa diakses sebelum deklarasi, <br> tetapi nilainya akan undefined | Variabel yang dideklarasikan <br> dengan `let` dihoist, tetapi <br> tidak dapat diakses sebelum <br> deklarasi (temporal dead zone). | Variabel `const` juga dihoist, <br> tetapi tidak dapat diakses <br> sebelum deklarasi (temporal <br> dead zone). |\n",
    "| Reassignable | - | Nilainya dapat diubah setelah <br> deklarasi | - |\n",
    "| Immutable | - | - | Nilai variabel yang dideklarasikan <br> dengan `const` tidak dapat diubah <br> setelah deklarasi. Namun, jika nilai <br> tersebut adalah objek atau array, <br> properti atau elemen di dalamnya <br> masih dapat diubah. |"
   ]
  },
  {
   "cell_type": "markdown",
   "metadata": {},
   "source": [
    "## Array <font color = '#c7a33e'> JavaScript </font> \n",
    "<font size = '4'>Array dalam <font color = '#c7a33e'>JavaScript</font>adalah tipe data yang digunakan untuk menyimpan beberapa nilai dalam satu variabel. Array bisa menyimpan berbagai tipe data seperti *string*, *number*, *objek*, atau bahkan array lainnya (*array multidimensi*). Kita dapat membuat sebuah array menggunakan tanda kurang siku `[...]` dan menambahkan elemen elemen ke dalamnya.</font>\n",
    "\n",
    "### Array Method\n",
    "<font size = '4'><font color = '#c7a33e'>JavaScript</font>menyediakan beragam method array bawaan untuk melakukan berbagai operasi dengan efisien:</font>\n",
    "| Method | <center>Fungsi</center> |\n",
    "|--------|-------------------------|\n",
    "| `push()` | Menambahkan satu atau lebih elemen ke akhir array |\n",
    "| `pop()` | Menghapus elemen terakhir dari array dan mengembalikannya |\n",
    "| `unshift()` | Menambahkan satu atau lebih elemen ke awal array. |\n",
    "| `shift()` | Menghapus elemen pertama dari array dan mengembalikannya |\n",
    "| `concat()` | Menggabungkan dua atau lebih array dan mengembalikan array baru. |\n",
    "| `join()` | Menggabungkan semua elemen array menjadi sebuah string. |\n",
    "| `slice()` | Mengembalikan salinan dari sebagian array |\n",
    "| `splice()` | Menambahkan atau menghapus elemen-elemen dari array pada indeks tertentu |\n",
    "| `find()` | Mengembalikan nilai elemen pertama dalam array yang lolos uji dalam fungsi yang disediakan. |\n",
    "| `sort()` | Mengurutkan elemen dalam array dan mengembalikan array yang sudah diurutkan. Secara default, mengurutkan elemen sebagai string. |\n",
    "| `reverse()` | Membalik urutan elemen dalam array |\n",
    "| `map()` | Membuat array baru dengan menerapkan sebuah fungsi pada setiap elemen |\n",
    "| `filter()` | Membuat array baru dengan elemen-elemen yang memenuhi kondisi tertentu. |\n",
    "| `reduce()` | Mengurangkan sebuah array menjadi satu nilai dengan menerapkan sebuah fungsi. |\n",
    "| `forEach()` | Menjalankan sebuah fungsi untuk setiap elemen dalam array |"
   ]
  },
  {
   "cell_type": "markdown",
   "metadata": {},
   "source": [
    "## Object <font color = '#c7a33e'> JavaScript </font> \n",
    "<font size = '4'>\n",
    "\n",
    "Objek dalam JavaScript adalah struktur data yang digunakan untuk menyimpan koleksi data dan/atau fungsi. Data dalam objek disimpan dalam pasangan kunci-nilai (*key-value pairs*), di mana kunci (*key*) adalah string atau simbol yang mengidentifikasi nilai (*value*). Objek sangat fleksibel dan dapat digunakan untuk menggambarkan entitas dunia nyata dalam kode, seperti pengguna, produk, atau berbagai entitas lainnya.\n",
    "\n",
    "```JavaScript\n",
    "    let player = {\n",
    "        nama: \"Kylian Mbappe\",\n",
    "        posisi: \"Penyerang\",\n",
    "        negara: \"Perancis\",\n",
    "        statistik: {\n",
    "            gol: 36,\n",
    "            asist: 20,\n",
    "        },\n",
    "        club: [\"Real Madrid\", \"PSG\", \"AS Monaco\"]\n",
    "    }\n",
    "```\n",
    "\n",
    "Dalam contoh di atas, `player` adalah sebuah objek yang memiliki beberapa properti dan nilai. Properti-properti tersebut adalah :\n",
    "1. `nama`, `posisi`, `negara` adalah properti dengan tipe data string.\n",
    "2. `statistik` adalah properti yang berisi objek lain dengan properti-properti `gol` dan `asist` dengan tipe data numbers.\n",
    "3. `club` adalah properti yang berisi array\n",
    "\n",
    "Kita dapat mengakses properti objek menggunakan notasi titik (*dot notation*) atau notasi tanda kurung siku (*bracket notation*). Contoh:\n",
    "\n",
    "```JavaScript\n",
    "    console.log(player.nama); // Output: Kylian Mbappe\n",
    "    console.log(player[\"posisi\"]); // Output: Penyerang\n",
    "    console.log(player.negara); // Output: Perancis\n",
    "    console.log(player.statistik.gol); // Output: 36\n",
    "```\n",
    "\n",
    "Kita juga dapat menambahkan, mengubah, atau menghapus properti objek.\n",
    "\n",
    "```JavaScript\n",
    "    player.umur = 22; // Menambahkan properti umur\n",
    "    player.posisi = \"Gelandang\"; // Mengubah nilai properti posisi\n",
    "    delete player.negara; // Menghapus properti negara\n",
    "```\n",
    "</font>"
   ]
  },
  {
   "cell_type": "markdown",
   "metadata": {},
   "source": [
    "## Function <font color = '#c7a33e'> JavaScript </font> \n",
    "<font size = '4'>Dalam <font color = '#c7a33e'>JavaScript</font>, fungsi (*function*) adalah blok kode yang dirancang untuk melakukan tugas tertentu dan dapat digunakan kembali di seluruh program. Fungsi memungkinkan kita untuk mengelompokkan kode yang terkait, membuat kode lebih modular, dan mengurangi pengulangan.\n",
    "\n",
    "**Function declaration** adalah cara mendefinisikan fungsi dengan menggunakan kata kunci `function` diikuti dengan nama fungsi dan parameter. Setelah fungsi didefinisikan, kita dapat memanggilnya dengan menyebut nama fungsi diikuti dengan tanda kurung dan argumen yang diperlukan.</font>\n",
    "\n",
    "### Function Expression\n",
    "<font size = '4'>**Function expression** adalah fungsi yang disimpan dalam variabel. Fungsi ini tidak memiliki nama dan dikenal sebagai fungsi anonim (*anonymous function*)</font>\n",
    "\n",
    "### Arrow Function\n",
    "<font size = '4'>**Arrow function** adalah cara singkat untuk mendefinisikan fungsi. Arrow function tidak memiliki `this` sendiri dan lebih cocok untuk fungsi sederhana.</font>\n",
    "\n",
    "### Return Value Function\n",
    "<font size = '4'>Fungsi dapat mengembalikan nilai menggunakan kata kunci `return`. Nilai yang dikembalikan bisa digunakan di luar fungsi. Jika fungsi tidak memiliki pernyataan `return`, ia akan mengembalikan `undefined` secara default.</font>\n",
    "\n",
    "### Anonymous Function\n",
    "<font size = '4'>**Anonymous function** dalam <font color = '#c7a33e'>JavaScript</font> adalah fungsi yang tidak memiliki nama. Fungsi anonim sering digunakan dalam situasi di mana fungsi tersebut hanya digunakan sekali atau ketika ingin menulis kode yang lebih singkat dan tidak perlu memberi nama fungsi.</font>"
   ]
  }
 ],
 "metadata": {
  "language_info": {
   "name": "python"
  }
 },
 "nbformat": 4,
 "nbformat_minor": 2
}
