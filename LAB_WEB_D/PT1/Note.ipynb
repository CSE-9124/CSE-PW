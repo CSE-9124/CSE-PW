{
 "cells": [
  {
   "cell_type": "markdown",
   "metadata": {},
   "source": [
    "# <center><font color = 'orange'> HTML </font> as Skeleton"
   ]
  },
  {
   "cell_type": "markdown",
   "metadata": {},
   "source": [
    "## Pengenalan <font color = 'orange'>HTML</font>\n",
    "<font size = '4'><font color = 'orange'>HTML</font> (*Hypertext Markup Language*) adalah *markup language* standar yang sering digunakan untuk membuat halaman *website*. *Markup language* adalah bahasa komputer yang digunakan untuk menyusun <font color = 'orange'>HTML</font>, mengatur dan mendefinisikan struktur, konten, dan tampilan halaman *website* dengan menggunakan tag (</>) untuk mendefinisikan elemen-elemen dasar.</font>"
   ]
  },
  {
   "cell_type": "markdown",
   "metadata": {},
   "source": [
    "## Struktur Dasar <font color = 'orange'>HTML</font>\n",
    "\n",
    "| Struktur | <center>Deskripsi</center> |\n",
    "|----------|-----------|\n",
    "| <<font color = '#5DADE2'>\\!DOCTYPE html</font>> | Mendeklarasikan tipe dokumen tersebut adalah HTML dan versi HTML yang digunakan. |\n",
    "| <<font color = '#5DADE2'>html</font>> | adalah elemen akar dari dokumen HTML. |\n",
    "| <<font color = '#5DADE2'>head</font>> | Berisi meta-informasi tentang dokumen, seperti judul yang muncul di bilah judul browser. |\n",
    "| <<font color = '#5DADE2'>meta</font>> | Digunakan untuk menyediakan informasi metadata atau data yang mmenggambarkan <br> informasi tentang halaman web. |\n",
    "| <<font color = '#5DADE2'>title</font>> | Menetapkan judul halaman web seperti yang muncul di tab browser. |\n",
    "| <<font color = '#5DADE2'>body</font>> | Berisi konten atau informasi yang ditampilkan pada halaman web. |"
   ]
  },
  {
   "cell_type": "markdown",
   "metadata": {},
   "source": [
    "## Elemen dan Tag <font color = 'orange'>HTML</font>\n",
    "\n",
    "<font size = '4'> **Elemen** merupakan hal yang bertanggung jawab untuk membuat halaman web juga konten di dalamnya dan **tag** adalah kode yang membungkus elemen tersebut.</font>\n",
    "\n",
    "| Elemen & Tag | <center>Deskripsi</center> |\n",
    "|--------------|-----------|\n",
    "| <<font color = '#5DADE2'>p</font>> | adalah elemen paragraf. |\n",
    "| <<font color = '#5DADE2'>a</font>> | adalah elemen tautan yang digunakan untuk membuat tautan hiperteks. |\n",
    "| <<font color = '#5DADE2'>img</font>> | menampilkan gambar di halaman web. |\n",
    "| <<font color = '#5DADE2'>br</font>> | berfungsi untuk membuat baris baru, sering disebut elemen yang tidak memiliki konten (*Empty Element*) |\n",
    "| <<font color = '#5DADE2'>hr</font>> | berfungsi untuk membuat garis datar memanjang secara horizontal, sering disebut elemen yang tidak <br> memiliki konten (*Empty Element*) |"
   ]
  },
  {
   "cell_type": "markdown",
   "metadata": {},
   "source": [
    "## Atribut Elemen <font color = 'orange'>HTML</font>\n",
    "\n",
    "| Atribut Elemen | <center>Deskripsi</center> |\n",
    "|----------------|-----------|\n",
    "| <font color = '#5DADE2'>href</font>= | adalah atribut yang menentukan URL untuk tautan yang dituju. |\n",
    "| <font color = '#5DADE2'>src</font>= | adalah atribut yang menentukan sumber gambar untuk elemen 'img'. |\n",
    "| <font color = '#5DADE2'>target</font>= | adalah atribut yang menentukan di mana hasil tautan akan ditampilkan, seperti di window baru atau <br> di window yang sama. |\n",
    "| <font color = '#5DADE2'>alt</font>= | adalah atribut yang memberikan teks alternatif untuk gambar jika gambar tidak dapat ditampilkan. |\n",
    "| <font color = '#5DADE2'>class</font>= | adalah atribut yang digunakan untuk memberikan elemen kelas tertentu untuk styling atau <br> manipulasi melalui CSS atau JavaScript. |\n",
    "| <font color = '#5DADE2'>id</font>= | adalah atribut yang memberikan elemen identitas unik yang dapat digunakan untuk styling atau <br> manipulasi melalui CSS atau JavaScript. |\n",
    "| <font color = '#5DADE2'>style</font>= | adalah atribut yang digunakan untuk memberikan gaya langsung ke elemen menggunakan properti CSS. |\n",
    "| <font color = '#5DADE2'>title</font>= | adalah atribut yang memberikan informasi tambahan tentang elemen saat mouse mengarah ke elemen tersebut. |\n",
    "| <font color = '#5DADE2'>width</font>= | adalah atribut yang menentukan lebar elemen, seperti lebar gambar atau lebar tabel. |\n",
    "| <font color = '#5DADE2'>height</font>= | adalah atribut yang menentukan tinggi elemen, seperti tinggi gambar atau tinggi tabel. |\n",
    "| <font color = '#5DADE2'>name</font>= | digunakan untuk mengidentifikasi nilai yang dikirimkan oleh elemen formulir saat formulir tersebut dikirimkan ke server. |\n"
   ]
  },
  {
   "cell_type": "markdown",
   "metadata": {},
   "source": [
    "## Format dan Semantik <font color = 'orange'>HTML</font>\n",
    "\n",
    "| <center>Tag<center> | <center>Deskripsi<center> |\n",
    "|-----|-----------|\n",
    "|<<font color = '#5DADE2'>h1</font>> - <<font color = '#5DADE2'>h6</font>> | Untuk judul tingkat berbeda |\n",
    "|<<font color = '#5DADE2'>b</font>> | Untuk memberikan bold teks |\n",
    "|<<font color = '#5DADE2'>strong</font>> | Untuk penekanan yang kuat (tebal) |\n",
    "|<<font color = '#5DADE2'>i</font>> | Untuk memberikan italic teks |\n",
    "|<<font color = '#5DADE2'>em</font>> | Untuk teks yang ditekankan (miring) |\n",
    "|<<font color = '#5DADE2'>u</font>> | Untuk memberikan garis bawah teks |\n",
    "|<<font color = '#5DADE2'>small</font>>| Untuk teks yang lebih kecil |\n",
    "|<<font color = '#5DADE2'>mark</font>>| Untuk teks yang harus ditandai atau dihighlight |\n",
    "|<<font color = '#5DADE2'>del</font>>| Untuk teks yang akan dicoret garis lurus |\n",
    "|<<font color = '#5DADE2'>ins</font>>| Untuk menggaris bawahi sisipan Teks |\n",
    "|<<font color = '#5DADE2'>sub</font>>| Untuk memunculkan teks di bawah baris normal |\n",
    "|<<font color = '#5DADE2'>sup</font>>| Untuk memunculkan teks di atas baris normal |"
   ]
  },
  {
   "cell_type": "markdown",
   "metadata": {},
   "source": [
    "## Daftar/List <font color = 'orange'>HTML</font>\n",
    "\n",
    "<font size='4'>Ada 3 jenis list yang ditawarkan <font color = 'orange'>HTML</font>, yaitu *Ordered List*, *Unordered List*, dan *Description List*.</font>\n",
    "\n",
    "| Tag | <center>Deskripsi<center> |\n",
    "|-----|-----------|\n",
    "| <<font color = '#5DADE2'>li</font>> | Menentukan item daftar |\n",
    "| <<font color = '#5DADE2'>ol</font>> | Membuat daftar yang terurut |\n",
    "| <<font color = '#5DADE2'>ul</font>> | Membuat daftar yang tidak terurut |\n",
    "| <<font color = '#5DADE2'>dl</font>> | Membuat daftar deskripsi |\n",
    "| <<font color = '#5DADE2'>dt</font>> | Mendefinisikan istilah dalam daftar deskripsi |\n",
    "| <<font color = '#5DADE2'>dd</font>> | Menjelaskan istilah dalam daftar deskripsi |\n",
    "\n",
    "<h3>Ordered List</h3>\n",
    "<ol>\n",
    "    <li>HTML</li>\n",
    "    <li>CSS</li>\n",
    "    <li>JavaScript</li>\n",
    "</ol>\n",
    "\n",
    "<h3>Unordered List</h3>\n",
    "<ul>\n",
    "    <li>Merah</li>\n",
    "    <li>Biru</li>\n",
    "    <li>Kuning</li>\n",
    "</ul>\n",
    "\n",
    "<h3>Description List</h3>\n",
    "<dl>\n",
    "    <dt>HTML</dt>\n",
    "    <dd>- Hyper Text Markup Language</dd>\n",
    "    <dt>CSS</dt>\n",
    "    <dd>- Cascading Style Sheet</dd>\n",
    "    <dt>JavaScript</dt>\n",
    "    <dd>- JavaScript</dd>\n",
    "</dl>\n"
   ]
  },
  {
   "cell_type": "markdown",
   "metadata": {},
   "source": [
    "## Multimedia <font color = 'orange'>HTML</font>\n",
    "\n",
    "<font size = '4'><font color = 'orange'>HTML</font> memungkinkan untuk memasukkan berbagai jenis media ke dalam halaman web,seperti gambar, audio, video, dan animasi.</font>\n",
    "\n",
    "| <center>Tag</center> | <center>Deskripsi<center> |\n",
    "|-----|-----------|\n",
    "| <<font color = '#5DADE2'>image</font>> | Menampilkan gambar |\n",
    "| <<font color = '#5DADE2'>video</font>> | Menampilkan dan memutar video atau film |\n",
    "| <<font color = '#5DADE2'>audio</font>> | Menampilkan dan memutar audio |\n",
    "| <<font color = '#5DADE2'>source</font>> | Menentukan beberapa sumber media <br> untuk elemen media, seperti \\<video> dan \\<audio> |"
   ]
  },
  {
   "cell_type": "markdown",
   "metadata": {},
   "source": [
    "## Form <font color = 'orange'>HTML</font>\n",
    "\n",
    "<font size = '4'>**Formulir** atau *form* dalam <font color = 'orange'>HTML</font> merupakan elemen yang digunakan untuk mengumpulkan data yang dimasukkan oleh pengguna *website*</font>\n",
    "\n",
    "### Element \\<<font color = '#5DADE2'>form</font>>\n",
    "| <center>Elemen</center> | <center>Deskripsi</center> |\n",
    "|------|-----------|\n",
    "| <<font color = '#5DADE2'>label</font>> | Memberikan label/teks untuk beberapa elemen formulir, Atribut \"<font color = '#7dc4e8'>for</font>\" digunakan <br> untuk menghubungkan label dengan elemen formulir. |\n",
    "| <<font color = '#5DADE2'>textarea</font>> | Input untuk memasukkan teks multi-baris |\n",
    "| <<font color = '#5DADE2'>button</font>> | Menampilkan sebuah tombol yang dapat di klik |\n",
    "| <<font color = '#5DADE2'>datalist</font>> | Menyediakan daftar opsi yang dapat dipilih pengguna saat mengetik di dalam input |\n",
    "| <<font color = '#5DADE2'>output</font>> | Menampilkan hasil kalkulasi atau output dari skrip |\n",
    "| <<font color = '#5DADE2'>progress</font>> | Menampilkan kemajuan dari suatu proses |\n",
    "| <<font color = '#5DADE2'>meter</font>> | Menampilkan nilai dalam rentang tertentu, seperti level baterai |\n",
    "\n",
    "### Element \\<<font color = '#5DADE2'>input</font>>\n",
    "| <center>Type</center> | <center>Deskripsi</center> |\n",
    "|------|-----------|\n",
    "| <<font color = '#5DADE2'>input</font> <font color = '#7dc4e8'> type</font>= <font color = '#f0a8a8'>\"text\"</font>> | Input untuk memasukkan teks baris tunggal |\n",
    "| <<font color = '#5DADE2'>input</font> <font color = '#7dc4e8'> type</font>= <font color = '#f0a8a8'>\"email\"</font>> | Input untuk memasukkan alamat email |\n",
    "| <<font color = '#5DADE2'>input</font> <font color = '#7dc4e8'> type</font>= <font color = '#f0a8a8'>\"password\"</font>> | Input untuk memasukkan password |\n",
    "| <<font color = '#5DADE2'>input</font> <font color = '#7dc4e8'> type</font>= <font color = '#f0a8a8'>\"tel\"</font>> | Input untuk memasukkan nomor telepon |\n",
    "| <<font color = '#5DADE2'>input</font> <font color = '#7dc4e8'> type</font>= <font color = '#f0a8a8'>\"url\"</font>> | Input untuk memasukkan URL |\n",
    "| <<font color = '#5DADE2'>input</font> <font color = '#7dc4e8'> type</font>= <font color = '#f0a8a8'>\"date\"</font>> | Input untuk memilih tanggal |\n",
    "| <<font color = '#5DADE2'>input</font> <font color = '#7dc4e8'> type</font>= <font color = '#f0a8a8'>\"time\"</font>> | Input untuk memilih waktu |\n",
    "| <<font color = '#5DADE2'>input</font> <font color = '#7dc4e8'> type</font>= <font color = '#f0a8a8'>\"datetime-local\"</font>> | Input untuk memilih tanggal dan waktu |\n",
    "| <<font color = '#5DADE2'>input</font> <font color = '#7dc4e8'> type</font>= <font color = '#f0a8a8'>\"range\"</font>> | Slider untuk memilih nilai dalam rentang tertentu |\n",
    "| <<font color = '#5DADE2'>input</font> <font color = '#7dc4e8'> type</font>= <font color = '#f0a8a8'>\"color\"</font>> | Input untuk memilih warna |\n"
   ]
  },
  {
   "cell_type": "markdown",
   "metadata": {},
   "source": [
    "## Tabel <font color = 'orange'>HTML</font>\n",
    "\n",
    "<font size = '4'>Tabel merupakan elemen <font color = 'orange'>HTML</font> yang memungkinkan untuk mengatur data dalam format\n",
    "yang terstruktur dan terorganisasi. Fungsi utama tabel <font color = 'orange'>HTML</font> adalah membantu pembuat\n",
    "*website* menampilkan informasi dalam format *grid* yang dapat mempermudah pengguna\n",
    "memahami dan menginterpretasikan data.\n",
    "</font>\n",
    "\n",
    "| <center>Tag</center> | <center>Deskripsi</center> |\n",
    "|-----|-----------|\n",
    "| <<font color = '#5DADE2'>tabel</font>> | Mendefinisikan sebuah tabel |\n",
    "| <<font color = '#5DADE2'>th</font>> | Mendefinisikan sebuah tabel sel kepala (*header*) dalam tabel. <br> Sel kepala biasanya digunakan untuk judul kolom dan memiliki <br> tampilan yang sedikit berbeda (misal: teks tebal dan rata tengah) |\n",
    "| <<font color = '#5DADE2'>tr</font>> | Mendefinisikan sebuah baris (*row*) dalam tabel. <br>  Setiap baris akan berisi satu atau lebih sel. |\n",
    "| <<font color = '#5DADE2'>td</font>> | Mendefinisikan sebuah sel data (*data cell*) dalam tabel. <br>  Sel data berisi konten utama dari tabel, seperti nama, nilai, atau <br> informasi lainnya. |\n",
    "| <<font color = '#5DADE2'>caption</font>> | Mendefinisikan keterangan tabel |\n",
    "| <<font color = '#5DADE2'>thead</font>> | Mengelompokkan konten header tabel |\n",
    "| <<font color = '#5DADE2'>tbody</font>> | Mengelompokkan konten isi data dalam tabel |\n",
    "| <<font color = '#5DADE2'>tfoot</font>> | Mengelompokkan konten footer dalam tabel |\n",
    "\n",
    "### Contoh:\n",
    "```html\n",
    "<table border=\"1\"> <!--Atribut border untuk menambahkan ketebalan garis tepi-->\n",
    "    <tr>\n",
    "        <th>Mahasiswa</th>\n",
    "        <th>Jenis Kelamin</th>\n",
    "        <th>Jurusan</th>\n",
    "    </tr>\n",
    "    <tr>\n",
    "        <td>Adhe</td>\n",
    "        <td>perempuan</td>\n",
    "        <td>Matematika</td>\n",
    "    </tr>\n",
    "    <tr>\n",
    "        <td>Cia</td>\n",
    "        <td>Perempuan</td>\n",
    "        <td>Ilmu Aktuaria</td>\n",
    "    </tr>\n",
    "</table>\n",
    "```"
   ]
  },
  {
   "cell_type": "markdown",
   "metadata": {},
   "source": [
    "## Style <font color = 'orange'>HTML</font>\n",
    "\n",
    "<font size = '4'>Menggunakan atribut `style` untuk menata elemen HTML. Syntax untuk style HTML :</font>\n",
    "\n",
    "<center>\n",
    "\n",
    "<font size = '5'>`<tagname style=\"property:value;\">`</font>\n",
    "\n",
    "</center>\n",
    "\n",
    "| <center>Property</center> | <center>Deskripsi</center> |\n",
    "|----------|-----------|\n",
    "| <font color = '#f0a8a8'>\"background-color\"</font> | Gunakan untuk warna latar belakang |\n",
    "| <font color = '#f0a8a8'>\"color\"</font> | Gunakan untuk warna teks |\n",
    "| <font color = '#f0a8a8'>\"font-family\"</font> | Gunakan untuk font teks |\n",
    "| <font color = '#f0a8a8'>\"font-size\"</font> | Gunakan untuk ukuran teks |\n",
    "| <font color = '#f0a8a8'>\"text-align\"</font> | Gunakan untuk perataan teks |"
   ]
  }
 ],
 "metadata": {
  "language_info": {
   "name": "python"
  }
 },
 "nbformat": 4,
 "nbformat_minor": 2
}
